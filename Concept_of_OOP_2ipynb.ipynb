{
  "nbformat": 4,
  "nbformat_minor": 0,
  "metadata": {
    "colab": {
      "provenance": [],
      "authorship_tag": "ABX9TyOrD4ZMvsdyvqQmtChqbDeR",
      "include_colab_link": true
    },
    "kernelspec": {
      "name": "python3",
      "display_name": "Python 3"
    },
    "language_info": {
      "name": "python"
    }
  },
  "cells": [
    {
      "cell_type": "markdown",
      "metadata": {
        "id": "view-in-github",
        "colab_type": "text"
      },
      "source": [
        "<a href=\"https://colab.research.google.com/github/sayomariarizette/CPE-103-OOP-1-A/blob/main/Concept_of_OOP_2ipynb.ipynb\" target=\"_parent\"><img src=\"https://colab.research.google.com/assets/colab-badge.svg\" alt=\"Open In Colab\"/></a>"
      ]
    },
    {
      "cell_type": "markdown",
      "source": [
        "Inheritance, Encapsulation, and Creating Mutiple Object Names"
      ],
      "metadata": {
        "id": "1QLOSD2kg1O0"
      }
    },
    {
      "cell_type": "code",
      "source": [
        "class RegularPolygon:   #creates the super class name RegularPolygon\n",
        "  def __init__(self,side):\n",
        "    self.side = side\n",
        "class Square(RegularPolygon):  #inherits the properties of superclass RegularPolygon\n",
        "   def area(self):   #defines the method/function to get the area of a square\n",
        "    return self.side * self.side\n",
        "class EquilateralTriangle(RegularPolygon):\n",
        "  def area(self):   #defines the method/function to get the area of a equilateral triangle\n",
        "    return self.side * self.side * 0.433\n",
        "\n",
        "square = Square(4)   #creates and object name square\n",
        "print(square.area()) #print the instance of the attribute of Square class\n",
        "equiltriangle = EquilateralTriangle(4) #creates and object name equiltriangle\n",
        "print(equiltriangle.area()) #print the instance of the attribute of EquilateralTriangle class\n",
        "\n"
      ],
      "metadata": {
        "colab": {
          "base_uri": "https://localhost:8080/"
        },
        "id": "4hOA7rwxg5eC",
        "outputId": "17b9c33b-7391-4551-85c4-a241f878af18"
      },
      "execution_count": null,
      "outputs": [
        {
          "output_type": "stream",
          "name": "stdout",
          "text": [
            "16\n",
            "6.928\n"
          ]
        }
      ]
    },
    {
      "cell_type": "markdown",
      "source": [
        "Encapsulation using Mangling (double__underscore)"
      ],
      "metadata": {
        "id": "cKDCECrgqry6"
      }
    },
    {
      "cell_type": "code",
      "source": [
        "class RegularPolygon:   #creates the super class name RegularPolygon\n",
        "  def __init__(self,side):\n",
        "    self.__side= side\n",
        "  def area(self):   #defines the method/function to get the area of a square\n",
        "    print(self.__side *self.__side)\n",
        "class Square(RegularPolygon):  #inherits the properties of superclass RegularPolygon\n",
        "   pass\n",
        "\n",
        "square = Square(5)\n",
        "#square.area()\n",
        "print(dir(square))"
      ],
      "metadata": {
        "colab": {
          "base_uri": "https://localhost:8080/"
        },
        "id": "2Zv4Wopqqx4B",
        "outputId": "d794e7e7-fb42-437c-c60d-285407012ef4"
      },
      "execution_count": 9,
      "outputs": [
        {
          "output_type": "stream",
          "name": "stdout",
          "text": [
            "['_RegularPolygon__side', '__class__', '__delattr__', '__dict__', '__dir__', '__doc__', '__eq__', '__format__', '__ge__', '__getattribute__', '__getstate__', '__gt__', '__hash__', '__init__', '__init_subclass__', '__le__', '__lt__', '__module__', '__ne__', '__new__', '__reduce__', '__reduce_ex__', '__repr__', '__setattr__', '__sizeof__', '__str__', '__subclasshook__', '__weakref__', 'area']\n"
          ]
        }
      ]
    },
    {
      "cell_type": "code",
      "source": [
        "class RegularPolygon:   #creates the super class name RegularPolygon\n",
        "  def __init__(self,side):\n",
        "    self.__side= side\n",
        "  def area(self):   #defines the method/function to get the area of a square\n",
        "    print(self.__side *self.__side)\n",
        "class Square(RegularPolygon):  #inherits the properties of superclass RegularPolygon\n",
        "   pass\n",
        "\n",
        "square = Square(5)\n",
        "square.area()"
      ],
      "metadata": {
        "colab": {
          "base_uri": "https://localhost:8080/"
        },
        "id": "TZAlsC1150xB",
        "outputId": "1a0cc966-3fa3-4ab5-bd60-17cd3f780902"
      },
      "execution_count": null,
      "outputs": [
        {
          "output_type": "stream",
          "name": "stdout",
          "text": [
            "25\n"
          ]
        }
      ]
    },
    {
      "cell_type": "code",
      "source": [
        "class RegularPolygon:   #creates the super class name RegularPolygon\n",
        "  def __init__(self,side):\n",
        "    self.__side= side\n",
        "  def area(self):   #defines the method/function to get the area of a square\n",
        "    print(self.__side *self.__side)\n",
        "class Square(RegularPolygon):  #inherits the properties of superclass RegularPolygon\n",
        "   pass\n",
        "\n",
        "square = Square(5)\n",
        "square.area()"
      ],
      "metadata": {
        "colab": {
          "base_uri": "https://localhost:8080/"
        },
        "id": "Mq3AHJhH59A9",
        "outputId": "c67d6c63-1e9d-4025-ba6f-78f7a16b0b0d"
      },
      "execution_count": null,
      "outputs": [
        {
          "output_type": "stream",
          "name": "stdout",
          "text": [
            "25\n"
          ]
        }
      ]
    },
    {
      "cell_type": "code",
      "source": [
        "# Python program to demonstrate\n",
        "# name mangling\n",
        "\n",
        "\n",
        "class Student:\n",
        "\tdef __init__(self, name):\n",
        "\t\tself.__name = name\n",
        "\n",
        "\tdef displayName(self):\n",
        "\t\tprint(self.__name)\n",
        "\n",
        "s1 = Student(\"Santhosh\")\n",
        "s1.displayName()\n",
        "\n",
        "# Raises an error\n",
        "#print(dir(s1))\n",
        "print(s1.displayName)\n"
      ],
      "metadata": {
        "colab": {
          "base_uri": "https://localhost:8080/"
        },
        "id": "Kdfa4EkuyApu",
        "outputId": "c5d7e8b1-51ba-450f-d31a-20ee2ec8f6a9"
      },
      "execution_count": 11,
      "outputs": [
        {
          "output_type": "stream",
          "name": "stdout",
          "text": [
            "Santhosh\n",
            "<bound method Student.displayName of <__main__.Student object at 0x7bec58657d10>>\n"
          ]
        }
      ]
    }
  ]
}