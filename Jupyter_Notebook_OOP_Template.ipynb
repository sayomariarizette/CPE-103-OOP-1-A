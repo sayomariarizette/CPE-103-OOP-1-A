{
  "cells": [
    {
      "cell_type": "markdown",
      "metadata": {
        "id": "view-in-github",
        "colab_type": "text"
      },
      "source": [
        "<a href=\"https://colab.research.google.com/github/sayomariarizette/CPE-103-OOP-1-A/blob/main/Jupyter_Notebook_OOP_Template.ipynb\" target=\"_parent\"><img src=\"https://colab.research.google.com/assets/colab-badge.svg\" alt=\"Open In Colab\"/></a>"
      ]
    },
    {
      "cell_type": "markdown",
      "metadata": {
        "id": "xUKw6dtiGo-r"
      },
      "source": [
        "---\n",
        "<center>\n",
        "\n",
        "**University of Caloocan City**<br>\n",
        "Computer Engineering Department<br>\n",
        "Bagong Silang Campus</center>\n",
        "\n",
        "---\n",
        "<center><h4> Activity No. and Title:</h4></center>\n",
        "\n",
        "---\n",
        "<center>\n",
        "\n",
        "| Course: CPE 103 | Program: BSCpE |\n",
        "|--- | --- |\n",
        "| **Course Title**: Object Oriented Programming | **Date Performed:** |\n",
        "| **Section**:  | **Date Submitted:** |\n",
        "| **Student Name**:  | **Instructor's Name:** |\n",
        "</center>"
      ]
    },
    {
      "cell_type": "markdown",
      "source": [
        "**Objective/s of the activity:**\n",
        "\n",
        "1.   List item\n",
        "2.   List item\n",
        "\n",
        "**Intended Learning Outcome:**\n",
        "\n",
        "1.   List item\n",
        "2.   List item\n",
        "\n",
        "**Discussion:**\n",
        "\n",
        "(put your discussions here)\n",
        "\n",
        "**Materials and Equipment:**\n",
        "\n",
        "1.   List item\n",
        "2.   List item\n",
        "\n",
        "**Procedure:**\n",
        "\n",
        "1.   List item\n",
        "2.   List item"
      ],
      "metadata": {
        "id": "gNe4D_l5JGiM"
      }
    },
    {
      "cell_type": "code",
      "source": [
        "# Place all the output of the procedures here"
      ],
      "metadata": {
        "id": "WORPHnvZKBVE"
      },
      "execution_count": null,
      "outputs": []
    },
    {
      "cell_type": "markdown",
      "source": [
        "**Supplementary Activity**:\n",
        "\n",
        "1.   List item\n",
        "2.   List item\n"
      ],
      "metadata": {
        "id": "bV8A708BKFuC"
      }
    },
    {
      "cell_type": "code",
      "source": [
        "# Place all the output of the supplementary activity here"
      ],
      "metadata": {
        "id": "X2QfbKrmKOJK"
      },
      "execution_count": null,
      "outputs": []
    },
    {
      "cell_type": "markdown",
      "source": [
        "\n",
        "**Questions**: (write your answers in blue font color and questions in black)\n",
        "\n",
        "1.   List item\n",
        "2.   List item"
      ],
      "metadata": {
        "id": "0CYvOMNPKNEq"
      }
    },
    {
      "cell_type": "markdown",
      "source": [
        "**Conclusion**:\n",
        "(conclusion must be based from the objective and answers whether you attained the objective/s or not and a brief explanation how you attained it)\n"
      ],
      "metadata": {
        "id": "f8oM9wqYKuO1"
      }
    },
    {
      "cell_type": "code",
      "source": [
        "\n",
        "PHOA = float(input(\"Enter Hands-on Activity grade: \"))\n",
        "PQUIZ = float(input(\"Enter Prelim Quiz grade: \"))\n",
        "PAS = float(input(\"Enter Prelim Assignment grade: \"))\n",
        "PCS = PHOA*.5 + PQUIZ*.3 + PAS*.2\n",
        "print(\"Prelim CS is: \", PCS)\n",
        "PEX = float(input(\"Enter Prelim Exam grade: \"))\n",
        "PG = PEX*.5 + PCS*.5\n",
        "print(\"Prelim Grade is: \", \"%.2f\" % PG)\n",
        "\n"
      ],
      "metadata": {
        "colab": {
          "base_uri": "https://localhost:8080/"
        },
        "id": "NHscsOjtxAtB",
        "outputId": "f8169ea3-88a6-43f9-a22b-33207e819029"
      },
      "execution_count": null,
      "outputs": [
        {
          "output_type": "stream",
          "name": "stdout",
          "text": [
            "Enter Hands-on Activity grade: 100\n",
            "Enter Prelim Quiz grade: 85\n",
            "Enter Prelim Assignment grade: 50\n",
            "Prelim CS is:  85.5\n",
            "Enter Prelim Exam grade: 75\n",
            "Prelim Grade is:  80.25\n"
          ]
        }
      ]
    }
  ],
  "metadata": {
    "kernelspec": {
      "display_name": "Python 3",
      "language": "python",
      "name": "python3"
    },
    "language_info": {
      "codemirror_mode": {
        "name": "ipython",
        "version": 3
      },
      "file_extension": ".py",
      "mimetype": "text/x-python",
      "name": "python",
      "nbconvert_exporter": "python",
      "pygments_lexer": "ipython3",
      "version": "3.7.3"
    },
    "colab": {
      "provenance": [],
      "include_colab_link": true
    }
  },
  "nbformat": 4,
  "nbformat_minor": 0
}