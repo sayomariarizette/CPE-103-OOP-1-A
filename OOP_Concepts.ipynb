{
  "nbformat": 4,
  "nbformat_minor": 0,
  "metadata": {
    "colab": {
      "provenance": [],
      "authorship_tag": "ABX9TyODgmpHuFrpS7GxjsN+cGl6",
      "include_colab_link": true
    },
    "kernelspec": {
      "name": "python3",
      "display_name": "Python 3"
    },
    "language_info": {
      "name": "python"
    }
  },
  "cells": [
    {
      "cell_type": "markdown",
      "metadata": {
        "id": "view-in-github",
        "colab_type": "text"
      },
      "source": [
        "<a href=\"https://colab.research.google.com/github/sayomariarizette/CPE-103-OOP-1-A/blob/main/OOP_Concepts.ipynb\" target=\"_parent\"><img src=\"https://colab.research.google.com/assets/colab-badge.svg\" alt=\"Open In Colab\"/></a>"
      ]
    },
    {
      "cell_type": "markdown",
      "source": [
        "Class Constructor"
      ],
      "metadata": {
        "id": "5_Ew0bIP78x_"
      }
    },
    {
      "cell_type": "code",
      "source": [
        "class Car:\n",
        "  def __init__(self,name,color):\n",
        "    self.name = name       #attributes\n",
        "    self.color = color\n",
        "\n"
      ],
      "metadata": {
        "id": "bBgI3I6J7_fb"
      },
      "execution_count": null,
      "outputs": []
    },
    {
      "cell_type": "markdown",
      "source": [
        "Methods"
      ],
      "metadata": {
        "id": "n7IFSU0f9l5K"
      }
    },
    {
      "cell_type": "code",
      "source": [],
      "metadata": {
        "id": "ChDFwZoy9nWD"
      },
      "execution_count": null,
      "outputs": []
    },
    {
      "cell_type": "markdown",
      "source": [
        "Mulitple Objects with the same class"
      ],
      "metadata": {
        "id": "f-ubGbTf_Jx2"
      }
    },
    {
      "cell_type": "code",
      "source": [
        "class Car:          #parent class\n",
        "\n",
        "    def __init__(self, name, mileage):\n",
        "        self._name = name\n",
        "        self.mileage = mileage\n",
        "\n",
        "    def description(self):\n",
        "        return f\"The {self._name} car gives the mileage of {self.mileage}km/l\"\n",
        "\n",
        "class BMW(Car):     #child class\n",
        "    pass\n",
        "\n",
        "class Audi(Car):     #child class\n",
        "    def audi_desc(self):\n",
        "        return \"This is the description method of class Audi.\"\n",
        "\n",
        "bmw = BMW(\"BMW 7-series\",39.53)\n",
        "print(bmw.description())\n",
        "audi =Audi(\"Audi A8-L\",14)\n",
        "print(audi.audi_desc())"
      ],
      "metadata": {
        "colab": {
          "base_uri": "https://localhost:8080/"
        },
        "id": "XBj_Qkpp_ZWk",
        "outputId": "a820b21c-8617-4d8c-9a30-f00906c6d906"
      },
      "execution_count": null,
      "outputs": [
        {
          "output_type": "stream",
          "name": "stdout",
          "text": [
            "The BMW 7-series car gives the mileage of 39.53km/l\n",
            "This is the description method of class Audi.\n"
          ]
        }
      ]
    },
    {
      "cell_type": "markdown",
      "source": [
        "Apply the OOP concept like class constructor, methods, inheritance, object instantiation to describe the sides of 3 shapes (e.g. Triangle, Square, Rectangle)"
      ],
      "metadata": {
        "id": "1fp4ZQ6REPSU"
      }
    },
    {
      "cell_type": "code",
      "source": [
        "class Shapes:\n",
        "  def __init__(self,sides):\n",
        "     pass"
      ],
      "metadata": {
        "id": "wE2sPiknE3ch"
      },
      "execution_count": null,
      "outputs": []
    }
  ]
}